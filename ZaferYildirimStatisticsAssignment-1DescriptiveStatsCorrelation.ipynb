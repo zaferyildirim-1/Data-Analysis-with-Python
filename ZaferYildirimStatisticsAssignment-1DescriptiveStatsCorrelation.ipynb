{
 "cells": [
  {
   "cell_type": "markdown",
   "metadata": {
    "deletable": false,
    "editable": false,
    "id": "80gh8Z2cV8O8"
   },
   "source": [
    "<a href=\"https://ondiande.com/contact/\"><img align=\"center\" src=\"https://i.ibb.co/B43qn24/officially-licensed-logo.png\" alt=\"ONDIA Contact\" width=\"110\" height=\"200\" title=\"This notebook is licensed by ONDIA. Please contact the authorized persons about the conditions under which you can use or share.\"></a>"
   ]
  },
  {
   "cell_type": "markdown",
   "metadata": {
    "id": "ABZc6u2UV8O_"
   },
   "source": [
    "<hr>\n",
    "\n",
    "<a href=\"https://lms.clarusway.com/mod/lesson/view.php?id=2463&pageid=4531&startlastseen=no\"><img align=\"center\" src=\"https://i.ibb.co/6Z5pQxD/lmss.png\" alt=\"Open in Clarusway LMS\" width=\"70\" height=\"200\" title=\"Open Clarusway Learning Management Sytem\"></a>\n",
    "\n",
    "<a href=\"https://github.com/clarusway/DS-DE-0322-Students/blob/main/3-%20Classes%26Labs/2-DAwPY/DAwPy_S01_(Numpy_Arrays).ipynb\"><img align=\"left\" src=\"https://i.ibb.co/n3HWyQX/github-logo.png\" alt=\"Open in Clarusway GitHub\" width=\"90\" height=\"150\" title=\"Open and Execute in Clarusway GitHub Repository\"></a>\n",
    "\n",
    "<a href=\"https://nbviewer.org/github/4dsolutions/clarusway_data_analysis/blob/main/DAwPy_S1_%28Numpy_Arrays%29/DAwPy_S1_%28Numpy_Arrays%29.ipynb\"><img align=\"right\" src=\"https://i.ibb.co/48wtV8c/nbviewer-badge.png\" alt=\"Open in nbviewer\" width=\"100\" height=\"100\" title=\"Open and Execute in nbviewer\"></a><br/>\n",
    "\n",
    "<hr>\n",
    "\n",
    "<p style=\"text-align: center;\"><img src=\"https://i.ibb.co/XS0bxSH/best-bootcamps.png\" width=\"300\" height=\"200\" class=\"img-fluid\" alt=\"Best Bootcamp Batches\"></p>\n",
    "\n",
    "<br>\n",
    "\n",
    "<p style=\"text-align: center;\"><img src=\"https://i.ibb.co/Rpz9L36/clarusway-logo-black.png\" width=\"500\" height=\"200\" class=\"img-fluid\" alt=\"CLRSWY_LOGO\"></p>\n",
    "\n",
    "\n",
    "<p style=\"background-color:#E51A59; font-family:newtimeroman; color:#FDFEFE; font-size:130%; text-align:center; border-radius:10px 10px;\">WAY TO REINVENT YOURSELF</p>\n",
    "\n",
    "<br>\n",
    "\n",
    "<img src=https://i.ibb.co/HgnTPh9/stats.png width=\"500\" height=\"200\">\n",
    "\n",
    "\n",
    "![Image_Assignment](https://i.ibb.co/cY9HhF7/bnote-assignment.gif)\n",
    "\n",
    "## <p style=\"background-color:#FDFEFE; font-family:newtimeroman; color:#4d77cf; font-size:175%; text-align:center; border-radius:10px 10px;\">Assignment 01 (Descriptive Statistics & Correlation)</p>"
   ]
  },
  {
   "cell_type": "markdown",
   "metadata": {
    "id": "K7S4cEyZLTp7"
   },
   "source": [
    "## <p style=\"background-color:#58B8E4; font-family:newtimeroman; color:#FFF9ED; font-size:175%; text-align:center; border-radius:10px 10px;\">Descriptive Statistics</p>"
   ]
  },
  {
   "cell_type": "markdown",
   "metadata": {
    "id": "vZRYVyc8H7hi"
   },
   "source": [
    " ### <span style=\"color:#49519E\">1. Import NumPy, SciPy, and Pandas Libraries.<span>"
   ]
  },
  {
   "cell_type": "code",
   "execution_count": 66,
   "metadata": {
    "id": "HAd1lZNGV8PC"
   },
   "outputs": [],
   "source": [
    "import numpy as np\n",
    "import pandas as pd\n",
    "import matplotlib.pyplot as plt\n",
    "import seaborn as sns\n",
    "from scipy import stats\n",
    "from scipy.stats import iqr\n",
    "\n",
    "%config IPCompleter.greedy=True"
   ]
  },
  {
   "cell_type": "markdown",
   "metadata": {
    "id": "_SaQURIqIA6d"
   },
   "source": [
    "### <span style=\"color:#49519E\">2. Randomly generate 1,000 samples from the normal distribution using `np.random.normal()`(mean=100, standard deviation=15).<span>\n",
    "    \n",
    "#### <span style=\"color:#49519E\">Tip: Use `random.seed()` method from Numpy library to generate the same numbers across multiple runs.<span>   "
   ]
  },
  {
   "cell_type": "code",
   "execution_count": 68,
   "metadata": {
    "id": "v_2bnojEV8PE",
    "scrolled": true
   },
   "outputs": [
    {
     "data": {
      "text/plain": [
       "array([ 95.26816483, 100.70503854, 119.51897418,  92.71243496,\n",
       "       102.99398321,  67.14412873, 104.62047795, 121.86563153,\n",
       "        83.72662347, 111.37829503, 104.72024207,  97.62674171,\n",
       "        98.19393843,  86.27569444,  87.77945867, 110.90916467,\n",
       "       112.56516645,  89.21705299, 114.39149229, 114.65524946,\n",
       "        98.42161099, 108.09809054,  76.76179003, 105.93665204,\n",
       "       104.86050191,  97.3214225 ,  77.04312359, 112.47972223,\n",
       "       100.94491217,  92.51014739, 102.12291706, 104.31921527,\n",
       "        84.31074335, 101.87929455,  80.66164984, 100.86308733,\n",
       "        91.36177892,  84.59224209, 111.18081986,  88.20170776,\n",
       "        89.2648329 , 107.87551967,  92.51530486, 117.70049022,\n",
       "       118.78867548, 124.10190476,  94.89715147,  95.75272783,\n",
       "       108.93866026,  85.30106615, 125.49822497, 107.67850581,\n",
       "       117.04469109,  75.1161654 , 127.42387036,  86.32453092,\n",
       "        99.7891016 , 115.01056351, 102.705799  ,  83.42611002,\n",
       "       118.10294696,  83.00999255,  90.45249494, 127.07949889,\n",
       "        99.74391019, 103.04149126, 126.97315337, 102.38834622,\n",
       "        85.84783369,  88.66391975,  87.92494071, 100.60356831,\n",
       "       110.53204452, 122.03337074,  99.98719429,  99.94791031,\n",
       "        69.26015114,  91.53392025, 107.2735912 ,  90.82569951,\n",
       "       109.87155025, 100.12246452, 106.36760241,  92.1215867 ,\n",
       "        98.43117097,  86.96881117, 116.3733272 , 103.87264948,\n",
       "       133.48331178,  90.37189426, 133.57798069, 106.93081124,\n",
       "       109.46961816, 100.94796555,  91.64751943,  89.95407451,\n",
       "       110.21195113, 114.38059059,  81.66272862,  76.46188281,\n",
       "        99.99764013,  91.38046098, 105.36936721,  98.61042585,\n",
       "        83.71588652,  83.9010802 , 104.02590574, 102.03689302,\n",
       "       122.12580887, 101.95059021, 107.71173625, 110.87721616,\n",
       "       127.77883536,  93.46764259,  84.7308265 , 104.79782984,\n",
       "       108.08630531,  86.10345134, 107.66455422, 122.37855006,\n",
       "        87.707195  , 122.93407545, 123.5665528 ,  74.24672661,\n",
       "        94.32778002, 105.81469877,  91.85295834,  98.31492621,\n",
       "        96.88605083,  92.93688671,  99.66852307,  93.05477515,\n",
       "       127.32631264, 103.81277529, 103.78472429,  87.88260675,\n",
       "       107.48215658,  95.30707385,  71.24820748,  96.88606654,\n",
       "       103.72025129, 104.59545063, 105.22201968, 103.22433594,\n",
       "       101.39506024,  76.68942163, 107.85463521, 102.11178027,\n",
       "       101.27360989, 110.70688998, 125.54601928, 120.31861387,\n",
       "       104.87565211,  86.25383026, 124.80227576,  89.6488752 ,\n",
       "       111.79230926,  81.07121138,  95.51185246, 105.0260714 ,\n",
       "        78.44428892,  98.55700583, 111.03456403, 134.4227764 ,\n",
       "        98.00149809, 125.16382857,  73.18622733, 112.07825227,\n",
       "        89.6865303 , 104.98196602,  89.22442882,  81.97342485,\n",
       "        90.43059417, 109.21729725, 116.37031411, 121.96479696,\n",
       "        83.79773705, 100.49462117,  68.98577461,  99.27874301,\n",
       "       100.45500822, 113.97596904,  69.7526874 ,  99.16694917,\n",
       "       108.74932765,  71.7187186 , 104.98524711,  86.04037066,\n",
       "        81.47351029,  75.48177998,  92.8160591 , 114.29712677,\n",
       "       114.52769037, 115.1729451 , 113.95309292, 139.7175331 ,\n",
       "        82.09849447,  92.74772234,  93.58129398, 108.30587823,\n",
       "        94.57341057,  58.43702279,  87.76484666,  82.36638655,\n",
       "        96.17587447,  90.04111417,  76.19443674, 106.52374333,\n",
       "       109.28550108,  90.80165892, 102.71502797, 121.97806219,\n",
       "        91.66441925, 113.61534184, 111.98386101,  90.3485635 ,\n",
       "       105.92054923, 112.24212735,  84.06147177,  86.46245171,\n",
       "       114.91237066, 110.54755942, 130.11698266,  95.00346377,\n",
       "       114.41949884, 110.18337619,  95.68311281, 103.6305625 ,\n",
       "        89.85967755,  97.34086525,  72.79065822, 113.18695346,\n",
       "        96.75327582, 119.23095331, 106.30874266,  94.65264266,\n",
       "        81.03300141,  98.07934075, 115.2188362 , 116.24610653,\n",
       "       104.57579053, 114.56369332, 113.23858841,  79.30815492,\n",
       "        74.74929554,  89.0756495 ,  85.05827582,  76.97654057,\n",
       "       101.0126312 ,  94.63062851, 105.00743299, 111.79833165,\n",
       "       106.27570065, 105.212128  ,  94.75020519, 120.83029688,\n",
       "        87.23882817,  88.30337422, 103.53373351, 102.45593043,\n",
       "        95.62429976, 101.56907402, 107.82378445, 105.36058043,\n",
       "        56.18316232, 104.7098347 , 131.92340769,  97.48922053,\n",
       "        84.1639313 , 116.92485846,  80.8323286 ,  99.91987233,\n",
       "       105.19296066, 118.36467602, 125.69617599, 116.09252773,\n",
       "        96.73063315,  91.76848922, 106.19454538, 106.87863709,\n",
       "       104.32946185,  98.20517042, 105.37201804, 134.76028988,\n",
       "       115.68158294, 100.2528958 , 102.02620775, 126.79913396,\n",
       "       110.3606713 , 108.15591042, 100.84587696,  98.99384762,\n",
       "       116.19328331,  92.4030129 , 106.58474024, 114.4791106 ,\n",
       "        90.40643688, 105.05356516,  92.66154766, 108.25433306,\n",
       "       102.71869173,  98.82025836,  84.87047612, 122.82914712,\n",
       "        84.18974958, 120.39381856, 114.54486789, 110.26195765,\n",
       "       111.72659846,  99.9435842 , 119.71906127, 100.7724295 ,\n",
       "        71.1707858 , 102.90064085,  81.2120296 , 121.86062366,\n",
       "       120.46759758, 116.76593283,  91.66531798,  67.90596477,\n",
       "       110.0573864 , 101.35594724, 116.48583219, 125.85185617,\n",
       "        86.67988906, 109.30466645,  97.19126466, 104.91748912,\n",
       "       111.52264526,  85.49867911,  85.08961461, 119.31705257,\n",
       "       117.08665609, 111.51389099,  90.22763673, 116.47782439,\n",
       "        94.57003642,  68.19173563, 100.28624495, 106.59030277,\n",
       "        95.71752285, 112.82545921,  78.54999321,  71.60970376,\n",
       "       126.40501425,  89.85234219, 117.18363097, 104.83626301,\n",
       "       122.29134976, 104.77185023,  94.31159541,  94.91325498,\n",
       "       109.46484648,  92.82047971,  95.73990343,  86.40525732,\n",
       "        93.61102581,  83.0461654 , 115.83363583, 113.70213692,\n",
       "       113.7132758 ,  77.90599343,  93.77648139,  98.8729458 ,\n",
       "        94.53576156,  77.71620204, 113.30017432,  69.68815408,\n",
       "        91.66406819,  75.20009371, 112.75517904, 120.45444504,\n",
       "       102.31291445,  95.58446236,  99.50952045,  98.92976273,\n",
       "        96.14823723,  72.39279712,  83.68019626,  99.79328843,\n",
       "       102.74478189, 112.61926665,  98.36639037,  98.94027708,\n",
       "        95.80308316,  90.8023389 , 111.48073173,  83.42738828,\n",
       "        87.42356985,  88.2934541 , 111.89697536,  99.53251451,\n",
       "       111.0051815 ,  94.62650883, 102.0441235 ,  99.31211851,\n",
       "       119.00082329, 106.43108007, 103.37989757,  94.34670714,\n",
       "       106.15970551, 109.48534829,  91.12116711, 101.93999758,\n",
       "        68.50979606, 105.59008107, 123.6750967 ,  91.76958437,\n",
       "       119.05382161, 113.9970415 ,  77.09227356,  84.10395155,\n",
       "        98.31405732, 103.47769456, 108.74597666, 128.74516791,\n",
       "        72.14327486, 104.72109807,  80.06754633,  56.52914992,\n",
       "       120.96254896,  89.78054222, 106.34736685,  77.74385125,\n",
       "        92.23554761,  77.78015233,  76.48529455, 111.03523675,\n",
       "       103.99507192, 100.93968101, 127.4333823 ,  98.81161228,\n",
       "       114.59510503, 106.6965082 , 112.0655876 ,  87.8887747 ,\n",
       "       111.90323661,  92.70498286, 103.30452797, 103.49630439,\n",
       "        99.04302199, 109.72515921,  88.36654479,  97.53045236,\n",
       "       142.99216893, 100.71253898, 103.46458315, 103.04352913,\n",
       "       115.14550082, 111.0063106 , 119.30729012, 108.16124298,\n",
       "        86.19803635,  97.92597068, 100.04168857, 106.15115081,\n",
       "        73.28947773,  75.21950228,  98.36614857,  87.47299056,\n",
       "        76.44919315, 100.81295134,  90.93903226,  87.53144155,\n",
       "        81.19872517, 101.61617616, 101.15732446,  92.20696324,\n",
       "        82.10998588, 109.05346591,  93.4724585 ,  80.62153076,\n",
       "       109.20779785,  85.15880265, 102.64805632,  90.8767386 ,\n",
       "        71.74239884,  85.68290093, 104.36129932,  93.67179161,\n",
       "       119.45917504,  81.38533774,  95.09631222,  87.8984509 ,\n",
       "        98.50728968,  64.23439079, 116.36564658, 111.7674821 ,\n",
       "        92.26329313,  87.93122343, 104.36544384,  98.95332707,\n",
       "        90.52151318, 106.34663172,  94.80322748, 116.76389871,\n",
       "        93.05127579,  87.78782997,  90.88832194,  90.12628597,\n",
       "        96.19191203,  88.63919612, 105.01050404, 121.32862373,\n",
       "       101.29655156, 105.5314705 , 103.4453805 ,  90.16193986,\n",
       "       100.77132797,  80.94178018,  96.89752776, 130.41995342,\n",
       "       122.04359813, 115.41821542, 105.49614871,  65.89064059,\n",
       "       105.1245392 ,  75.07936   ,  92.8233876 , 101.12121636,\n",
       "        95.49664415,  99.9409492 ,  96.36694532,  88.05242909,\n",
       "        97.10668319,  75.65546555,  98.937913  , 111.5296085 ,\n",
       "       103.70777769,  87.26513397,  91.27990161, 105.06084985,\n",
       "       128.30175972, 116.61891604, 101.9805445 , 113.73802735,\n",
       "       102.04460966, 107.84636549,  87.23620399, 101.98097411,\n",
       "       110.39151634,  99.65686958,  96.11067152, 107.16283638,\n",
       "        89.53061493, 102.65529861,  95.40940607, 117.19346208,\n",
       "       104.32835479,  99.57081956,  78.39151796, 110.58154251,\n",
       "        96.31332921,  94.74559817, 108.4821636 ,  74.40855009,\n",
       "       100.18129413,  89.12345563, 106.22938676,  83.29422083,\n",
       "       107.16655383, 114.31738122,  85.95810753,  90.32432349,\n",
       "       100.80228045, 120.97136393, 116.02937062, 143.43342076,\n",
       "        84.60342725, 102.3565358 ,  99.6020792 ,  89.84127688,\n",
       "        99.79807483, 106.49654682,  81.23605942,  88.97007066,\n",
       "       115.71929027,  92.60813562, 109.6576709 , 103.01184729,\n",
       "       102.5276694 ,  87.9646937 ,  81.94264045,  83.30125723,\n",
       "       119.97618809,  83.37286287,  87.94151187, 119.86501609,\n",
       "        91.00472165, 106.28001248,  89.11964068,  89.35181555,\n",
       "       106.53854921,  89.44562275,  89.83305242,  98.99625625,\n",
       "       104.32096944, 118.937592  , 102.59268914, 111.9159066 ,\n",
       "        82.86309188,  96.51648409, 123.29254873, 117.62077841,\n",
       "       109.86067827, 106.86836174, 100.90947611,  82.59454214,\n",
       "        79.44749904, 117.11131731, 109.77176455, 100.17730199,\n",
       "        77.17348992, 126.29938831,  94.59090513,  84.70056255,\n",
       "       112.93262672, 129.59710311,  78.02377485,  80.02454189,\n",
       "        97.59450445, 110.23689039, 105.33216424,  91.73452503,\n",
       "        92.98390735,  95.79550743, 109.65140733,  95.23051861,\n",
       "        81.36462217,  96.68179848,  92.33204879,  99.1718838 ,\n",
       "        98.45419548,  88.64392074, 113.94324924,  92.19436417,\n",
       "        99.95870448, 111.15110492,  98.10417084, 104.04323308,\n",
       "        94.91902393, 103.14548049, 125.33197028,  99.57839188,\n",
       "       108.73251658,  90.88861661,  88.35336881, 105.45791009,\n",
       "       109.44145004, 110.98122374,  99.08232481,  91.37812507,\n",
       "        86.09035096, 102.34556265,  86.70000872,  94.08152432,\n",
       "        92.66922423,  92.03982204,  82.15409146, 117.57560268,\n",
       "       111.70175028, 119.46137832, 111.87384794,  68.15994072,\n",
       "       127.13387267,  99.89154298, 115.19108071,  94.55895577,\n",
       "        88.13107447, 102.51629756,  78.33308846, 124.18956668,\n",
       "       113.99857265, 117.3145397 , 104.12108806,  95.52152522,\n",
       "        80.1995298 ,  62.88930886, 114.51415119, 107.58999711,\n",
       "        91.71914661, 108.1426849 , 122.0547124 ,  82.60131803,\n",
       "       121.3653973 ,  98.13379667,  94.27883328,  83.15125655,\n",
       "       122.64830766, 103.98788174,  89.1873214 , 110.57906122,\n",
       "       104.71538832,  76.06253135,  81.03389483,  85.03480015,\n",
       "        74.19215594, 109.63410179, 104.40567563, 101.55019846,\n",
       "        95.66011955,  82.66270252, 121.76716501,  87.54268172,\n",
       "       109.90334493, 107.46751902,  80.19175896, 111.90330962,\n",
       "        98.4230149 , 109.71944774, 106.93594641,  86.82539143,\n",
       "       102.95169034,  86.79635793, 100.09558208, 112.86962706,\n",
       "       107.73860159, 127.85233728,  85.630027  , 112.95048355,\n",
       "        91.75636198,  95.73616068, 130.70932653, 114.36085295,\n",
       "        95.09226957,  91.40948687,  77.89823917, 112.12304583,\n",
       "       115.7332567 ,  99.82902353, 123.32664903, 110.19301851,\n",
       "       104.60983817, 109.55028843,  75.6675448 , 110.86174345,\n",
       "        93.64735711, 110.10400045, 115.97466116, 103.4495265 ,\n",
       "       120.46645433,  98.07715541,  96.94121507,  99.11178705,\n",
       "       109.03278894, 110.31369461,  99.16653474,  93.80562977,\n",
       "        80.6720747 ,  75.11109957,  90.3264512 ,  82.07373158,\n",
       "        97.3456992 ,  92.06358182, 119.11610545, 125.3102818 ,\n",
       "        66.93636348, 116.60564869,  83.33285661,  98.60424087,\n",
       "       122.88794631,  89.80254301, 123.73889639, 111.17832078,\n",
       "        97.68227821, 125.18906753, 122.74351013,  82.60575167,\n",
       "        69.25300073, 114.04153927, 114.57412125, 112.37827496,\n",
       "        76.43184001, 106.73400075,  83.01613731, 113.88355843,\n",
       "        94.92889732,  96.66643866, 105.34178859, 117.07038195,\n",
       "       106.96301618,  85.11562058, 101.61935652, 106.66370032,\n",
       "       138.04764514, 101.22209828, 102.87111461,  93.35322791,\n",
       "       112.23499776, 108.81705782, 113.63114194, 106.36719824,\n",
       "        80.05523287, 105.53096413,  83.69674814, 101.29203387,\n",
       "        86.19538487, 106.46175183,  92.6723505 ,  82.45707396,\n",
       "       116.73914367, 117.85158724,  88.5210161 ,  90.35079334,\n",
       "       108.69846348, 104.62486122,  74.76750772, 107.34718775,\n",
       "        84.16272084, 103.72541079,  91.99382268,  97.90332572,\n",
       "       155.13533855, 123.17296731, 112.95875005,  75.57578195,\n",
       "       125.52926575,  81.00258248, 124.65777531,  97.16999438,\n",
       "        89.2935734 , 110.38390342,  91.49476694, 118.66786903,\n",
       "       109.20137197, 100.59221299,  78.40081688, 102.16664588,\n",
       "       115.0716875 , 103.11268284,  75.97924499,  89.53779456,\n",
       "        88.62135123, 116.69118156, 142.71735526,  81.28177097,\n",
       "        89.02241545,  89.83457126, 102.64709362,  97.08353763,\n",
       "       111.36129895,  90.96055148, 106.34904655, 103.05003786,\n",
       "        94.30025484,  85.9431706 ,  78.46511108,  88.22308529,\n",
       "        84.21743716, 112.35407786,  95.21629138,  82.51453518,\n",
       "        75.38742682,  83.77638508, 111.53050449, 129.87107171,\n",
       "       118.85843674, 108.57854761, 120.1541024 ,  93.4566446 ,\n",
       "       110.79441905,  85.94167646, 124.25717555,  84.48300504,\n",
       "        79.07629789,  94.59104393, 108.45978305, 111.74601372,\n",
       "        85.80435799,  99.86952166,  90.34656062, 102.7472723 ,\n",
       "        86.20690576,  93.37192141,  88.09415651,  78.99934102,\n",
       "        75.75512093,  90.03885338,  90.16727956,  89.97965731,\n",
       "        88.87683845, 119.45340759,  91.00590675,  62.05321607,\n",
       "        87.16532782,  88.65853442, 134.161385  , 105.31366684,\n",
       "        63.98015165,  70.09833549,  60.56823534,  90.70457447,\n",
       "        87.77047208,  90.04814959, 115.25741166, 105.66473989,\n",
       "       117.66356005,  82.77978633, 100.56690875, 122.17823654,\n",
       "       100.03608802, 130.00626831,  92.88215321, 117.71281551,\n",
       "       106.03093291, 106.51446247, 135.49312472,  85.37789126,\n",
       "        89.57439203, 108.40026529, 123.33905954,  73.65181595,\n",
       "       113.45231747,  90.91746359,  91.41726299, 101.71931268,\n",
       "       102.09665131,  94.97939803, 115.16020901, 115.863961  ,\n",
       "        87.59120933,  73.018101  ,  86.19564426,  85.95026332,\n",
       "       105.318047  , 143.41946421, 103.78958984,  94.84251942,\n",
       "        92.43890191,  97.09395695,  91.26561178, 106.3910277 ,\n",
       "        98.83555484,  89.60987444,  74.53925709,  93.51393217,\n",
       "       128.26029687,  95.59887852, 101.08580887, 100.56430118,\n",
       "       122.04570473, 107.88581907, 100.30153546,  98.51996778,\n",
       "       126.90119446,  84.1322167 , 114.89334891,  73.79332758,\n",
       "       106.60808643, 123.78969666,  82.55946616, 117.74809637,\n",
       "       114.68174984,  98.70434851, 106.68017786, 105.32184827,\n",
       "       102.5666614 , 105.58524172,  73.08441676, 109.90003652,\n",
       "       109.41721213, 118.51074246, 105.60304182, 100.54852081,\n",
       "        89.26578439, 121.73088375,  99.05065142, 128.68154403,\n",
       "       131.78276542,  98.0287084 , 102.66872308, 128.82078   ,\n",
       "        99.86158316, 120.744774  ,  96.23793775, 108.57775444,\n",
       "       102.12156855, 108.29571909, 101.60494204, 122.54704017,\n",
       "       113.17385427,  94.9548198 , 101.01481936,  93.31167166,\n",
       "        97.76713749,  84.76462408,  98.11654454, 106.68025414,\n",
       "        93.21758382,  93.59948527, 101.85319396, 107.59077274,\n",
       "        99.13724906,  82.23306141,  86.14240776,  89.99367423,\n",
       "       117.86296975, 106.74298755,  62.74968249,  98.79938289])"
      ]
     },
     "execution_count": 68,
     "metadata": {},
     "output_type": "execute_result"
    }
   ],
   "source": [
    "np.random.seed()\n",
    "samples = np.random.normal(loc=100, scale=15, size=1000)\n",
    "samples\n"
   ]
  },
  {
   "cell_type": "markdown",
   "metadata": {
    "id": "CDF8m3a4IYOC"
   },
   "source": [
    "  ### <span style=\"color:#49519E\">3. Calculate the mean, median, and mode.<span>"
   ]
  },
  {
   "cell_type": "code",
   "execution_count": 70,
   "metadata": {
    "id": "UcF8-bY_V8PE"
   },
   "outputs": [
    {
     "name": "stdout",
     "output_type": "stream",
     "text": [
      "\"mean \" 100.18910275671203, \"median\" 100.4748146982279 \"mode\" ModeResult(mode=array([56.18316232]), count=array([1]))\n"
     ]
    }
   ],
   "source": [
    "a = np.mean(samples)\n",
    "b = np.median(samples)\n",
    "c = stats.mode(samples, keepdims=True)\n",
    "print(f'\"mean \" {a}, \"median\" {b} \"mode\" {c}')\n"
   ]
  },
  {
   "cell_type": "markdown",
   "metadata": {
    "id": "skT8m39XI60w"
   },
   "source": [
    "  ### <span style=\"color:#49519E\">4. Calculate the min, max, Q1, Q3, and interquartile range.<span>"
   ]
  },
  {
   "cell_type": "code",
   "execution_count": 72,
   "metadata": {
    "id": "kYpqd0W-V8PF"
   },
   "outputs": [
    {
     "name": "stdout",
     "output_type": "stream",
     "text": [
      "1st : 89.93047527201959\n",
      "3rd : 110.2181859482684\n",
      "min: 56.183162322336464\n",
      "max: 155.13533854728638\n",
      "range: 98.95217622494991\n",
      "range: 98.95217622494991\n"
     ]
    }
   ],
   "source": [
    "# First quartile (Q1)\n",
    "Q1 = np.percentile(samples, 25)\n",
    "print(\"1st :\", Q1)\n",
    "# Third quartile (Q3)\n",
    "Q3 = np.percentile(samples, 75)\n",
    "print(\"3rd :\", Q3)\n",
    "\n",
    "print(\"min:\", np.min(samples))\n",
    "print(\"max:\", np.max(samples))\n",
    "print(\"range:\", np.max(samples) - np.min(samples))\n",
    "print(\"range:\", np.nanmax(samples) - np.nanmin(samples))\n"
   ]
  },
  {
   "cell_type": "markdown",
   "metadata": {
    "id": "m53Dv3n5JHQi"
   },
   "source": [
    "  ### <span style=\"color:#49519E\">5. Calculate the variance and standard deviation.<span>"
   ]
  },
  {
   "cell_type": "code",
   "execution_count": 74,
   "metadata": {
    "id": "PJNWGb1ZV8PF"
   },
   "outputs": [
    {
     "name": "stdout",
     "output_type": "stream",
     "text": [
      "219.13333766945274\n",
      "14.803152963792975\n"
     ]
    }
   ],
   "source": [
    "print(np.var(samples))\n",
    "print(np.std(samples))\n"
   ]
  },
  {
   "cell_type": "markdown",
   "metadata": {
    "id": "5eup4hI1JzqX"
   },
   "source": [
    "  ### <span style=\"color:#49519E\">6. Calculate the skewness and kurtosis.<span>"
   ]
  },
  {
   "cell_type": "code",
   "execution_count": 76,
   "metadata": {
    "id": "1oM_Dxg4V8PG"
   },
   "outputs": [
    {
     "name": "stdout",
     "output_type": "stream",
     "text": [
      "Skewness: 0.024756748199918088\n",
      "Kurtosis: -0.011280756619183041\n"
     ]
    }
   ],
   "source": [
    "from scipy.stats import skew, kurtosis\n",
    "\n",
    "skewness = skew(samples)\n",
    "print(\"Skewness:\", skewness)\n",
    "\n",
    "kurt = kurtosis(samples)\n",
    "print(\"Kurtosis:\", kurt)\n"
   ]
  },
  {
   "cell_type": "markdown",
   "metadata": {
    "id": "a5UNc8PUKnbU"
   },
   "source": [
    "## <p style=\"background-color:#58B8E4; font-family:newtimeroman; color:#FFF9ED; font-size:175%; text-align:center; border-radius:10px 10px;\">Correlation Calculation in NumPy</p>"
   ]
  },
  {
   "cell_type": "markdown",
   "metadata": {
    "id": "cLiqxE1CMNTg"
   },
   "source": [
    "### <span style=\"color:#49519E\">7. Create an array `x` of integers between 10 (inclusive) and 20 (exclusive). Use `np.arange()`.<span>"
   ]
  },
  {
   "cell_type": "code",
   "execution_count": 79,
   "metadata": {
    "id": "-Z6R-HLSV8PG"
   },
   "outputs": [
    {
     "name": "stdout",
     "output_type": "stream",
     "text": [
      "[10 11 12 13 14 15 16 17 18 19]\n"
     ]
    }
   ],
   "source": [
    "x = np.arange(10, 20)  \n",
    "print(x)\n"
   ]
  },
  {
   "cell_type": "markdown",
   "metadata": {
    "id": "qyCIaukNMZPf"
   },
   "source": [
    "### <span style=\"color:#49519E\">8. Then use `np.array()` to create a second array `y` containing 10 arbitrary integers.<span>"
   ]
  },
  {
   "cell_type": "code",
   "execution_count": 81,
   "metadata": {
    "id": "ddpswSvqV8PH"
   },
   "outputs": [
    {
     "name": "stdout",
     "output_type": "stream",
     "text": [
      "[ 3  7 15 21  8 12 19  5 10 14]\n"
     ]
    }
   ],
   "source": [
    "y = np.array([3, 7, 15, 21, 8, 12, 19, 5, 10, 14])\n",
    "print(y)\n"
   ]
  },
  {
   "cell_type": "markdown",
   "metadata": {
    "id": "Kh_VeKwINSqS"
   },
   "source": [
    "### <span style=\"color:#49519E\">9. Calculate the correlation coefficient between `x` and `y`.<span>"
   ]
  },
  {
   "cell_type": "code",
   "execution_count": 83,
   "metadata": {
    "id": "tmNOTfQ6V8PH"
   },
   "outputs": [
    {
     "name": "stdout",
     "output_type": "stream",
     "text": [
      "Correlation Coefficient: 0.2111109081979943\n"
     ]
    }
   ],
   "source": [
    "correlation_matrix = np.corrcoef(x, y)\n",
    "\n",
    "correlation_coefficient = correlation_matrix[0, 1]\n",
    "\n",
    "print(\"Correlation Coefficient:\", correlation_coefficient)\n"
   ]
  },
  {
   "cell_type": "markdown",
   "metadata": {
    "id": "vXieLjYiNtPi"
   },
   "source": [
    "## <p style=\"background-color:#58B8E4; font-family:newtimeroman; color:#FFF9ED; font-size:175%; text-align:center; border-radius:10px 10px;\">Correlation Calculation in Pandas</p>"
   ]
  },
  {
   "cell_type": "markdown",
   "metadata": {
    "id": "z56t0k0qNvkr"
   },
   "source": [
    "### <span style=\"color:#49519E\">10. Run the code below.<span>"
   ]
  },
  {
   "cell_type": "code",
   "execution_count": 86,
   "metadata": {
    "id": "9AVBMJCyNuwb"
   },
   "outputs": [],
   "source": [
    "x = pd.Series(range(10, 20))\n",
    "y = pd.Series([2, 1, 4, 5, 8, 12, 18, 25, 96, 48])"
   ]
  },
  {
   "cell_type": "markdown",
   "metadata": {
    "id": "ZajVXYe2OCih"
   },
   "source": [
    "### <span style=\"color:#49519E\">11. Calculate the `Pearson's r` correlation.<span>"
   ]
  },
  {
   "cell_type": "code",
   "execution_count": 88,
   "metadata": {
    "id": "5LLoMqxHV8PI"
   },
   "outputs": [
    {
     "data": {
      "text/plain": [
       "0.7586402890911867"
      ]
     },
     "execution_count": 88,
     "metadata": {},
     "output_type": "execute_result"
    }
   ],
   "source": [
    "pearson_r = x.corr(y, method='pearson')\n",
    "pearson_r\n"
   ]
  },
  {
   "cell_type": "markdown",
   "metadata": {
    "id": "1CygSbnROb9V"
   },
   "source": [
    "### <span style=\"color:#49519E\">12. OPTIONAL. Calculate the relevant method to calculate `Spearman's rho` correlation.<span>"
   ]
  },
  {
   "cell_type": "code",
   "execution_count": 90,
   "metadata": {
    "id": "N3LM48XiV8PI"
   },
   "outputs": [
    {
     "name": "stdout",
     "output_type": "stream",
     "text": [
      "Spearman's rho: 0.9757575757575757\n"
     ]
    }
   ],
   "source": [
    "spearman_rho = x.corr(y, method='spearman')\n",
    "print(\"Spearman's rho:\", spearman_rho)\n"
   ]
  },
  {
   "cell_type": "markdown",
   "metadata": {
    "id": "we7pg7kdOo7y"
   },
   "source": [
    "## <p style=\"background-color:#58B8E4; font-family:newtimeroman; color:#FFF9ED; font-size:175%; text-align:center; border-radius:10px 10px;\">Study wit Seaborn Dataset-Tips</p>"
   ]
  },
  {
   "cell_type": "markdown",
   "metadata": {
    "id": "VlzgFKN7OvqX"
   },
   "source": [
    "### <span style=\"color:#49519E\">13. Import Seaborn Library as `sns`.<span>"
   ]
  },
  {
   "cell_type": "code",
   "execution_count": 93,
   "metadata": {
    "id": "wasaVyngV8PJ"
   },
   "outputs": [],
   "source": [
    "import seaborn as sns\n"
   ]
  },
  {
   "cell_type": "markdown",
   "metadata": {
    "id": "0INVBB4tO4y4"
   },
   "source": [
    "### <span style=\"color:#49519E\">14. Load `tips` dataset from Seaborn Library.<span>"
   ]
  },
  {
   "cell_type": "code",
   "execution_count": 95,
   "metadata": {
    "id": "ovWS6zyFV8PJ"
   },
   "outputs": [
    {
     "name": "stdout",
     "output_type": "stream",
     "text": [
      "   total_bill   tip     sex smoker  day    time  size\n",
      "0       16.99  1.01  Female     No  Sun  Dinner     2\n",
      "1       10.34  1.66    Male     No  Sun  Dinner     3\n",
      "2       21.01  3.50    Male     No  Sun  Dinner     3\n",
      "3       23.68  3.31    Male     No  Sun  Dinner     2\n",
      "4       24.59  3.61  Female     No  Sun  Dinner     4\n",
      "5       25.29  4.71    Male     No  Sun  Dinner     4\n",
      "6        8.77  2.00    Male     No  Sun  Dinner     2\n"
     ]
    }
   ],
   "source": [
    "tips = sns.load_dataset(\"tips\")\n",
    "\n",
    "print(tips.head(7))\n"
   ]
  },
  {
   "cell_type": "markdown",
   "metadata": {
    "id": "o2ISqVQrPh5S"
   },
   "source": [
    "### <span style=\"color:#49519E\">15. Generate Descriptive Statistics including those that summarize the central tendency, dispersion.<span>"
   ]
  },
  {
   "cell_type": "code",
   "execution_count": 97,
   "metadata": {
    "id": "iSqxD_K_V8PK"
   },
   "outputs": [
    {
     "name": "stdout",
     "output_type": "stream",
     "text": [
      "       total_bill         tip        size\n",
      "count  244.000000  244.000000  244.000000\n",
      "mean    19.785943    2.998279    2.569672\n",
      "std      8.902412    1.383638    0.951100\n",
      "min      3.070000    1.000000    1.000000\n",
      "25%     13.347500    2.000000    2.000000\n",
      "50%     17.795000    2.900000    2.000000\n",
      "75%     24.127500    3.562500    3.000000\n",
      "max     50.810000   10.000000    6.000000\n"
     ]
    }
   ],
   "source": [
    "print(tips.describe())\n"
   ]
  },
  {
   "cell_type": "markdown",
   "metadata": {
    "id": "3yCRK4VJPzRo"
   },
   "source": [
    "### <span style=\"color:#49519E\">16. Calculate `Pairwise Pearson's r` correlation of columns.<span>"
   ]
  },
  {
   "cell_type": "code",
   "execution_count": 99,
   "metadata": {
    "id": "YKAoR2QRV8PK"
   },
   "outputs": [
    {
     "name": "stdout",
     "output_type": "stream",
     "text": [
      "            total_bill       tip      size\n",
      "total_bill    1.000000  0.675734  0.598315\n",
      "tip           0.675734  1.000000  0.489299\n",
      "size          0.598315  0.489299  1.000000\n"
     ]
    }
   ],
   "source": [
    "numeric_tips = tips.select_dtypes(include=['number'])\n",
    "\n",
    "correlation_matrix = numeric_tips.corr(method='pearson')\n",
    "\n",
    "print(correlation_matrix)\n"
   ]
  },
  {
   "cell_type": "markdown",
   "metadata": {
    "id": "CbTcJThZV8PK"
   },
   "source": [
    "### <span style=\"color:#49519E\">17. Visualize mutual relationships of features by `pairplot'.<span>"
   ]
  },
  {
   "cell_type": "code",
   "execution_count": 101,
   "metadata": {
    "id": "vzhEk_9JV8PR"
   },
   "outputs": [
    {
     "data": {
      "image/png": "[encoded data removed]",
      "text/plain": [
       "<Figure size 750x750 with 12 Axes>"
      ]
     },
     "metadata": {},
     "output_type": "display_data"
    }
   ],
   "source": [
    "import matplotlib.pyplot as plt\n",
    "\n",
    "sns.pairplot(tips)\n",
    "\n",
    "plt.show()\n"
   ]
  },
  {
   "cell_type": "markdown",
   "metadata": {
    "id": "g1fpZx0rV8PR"
   },
   "source": [
    "## <p style=\"background-color:#8CCED1; font-family:newtimeroman; color:#49519E; font-size:150%; text-align:center; border-radius:10px 10px;\">END OF THE ASSIGNMENT-01</p>\n",
    "\n",
    "# Now. it's time to relax!\n",
    "\n",
    "<p style=\"text-align: center;\"> <img src=\"https://i.ibb.co/qRXLyxs/blur-book-close-up-coffee-459265-scaled-e1596132095495.jpg\" width=\"800\" height=\"200\"\n",
    "\n",
    "[Image Credit](https://www.tuscany-villas.nl/in-toscane/2021/eten-en-wijn/accademia-del-caffe-espresso)\n",
    "\n",
    "<p style=\"text-align: center;\"><img src=\"https://i.ibb.co/99DQ3TY/DS-Courses.png\" class=\"img-fluid\"\n",
    "alt=\"CLRSWY_Courses\"></p>"
   ]
  },
  {
   "cell_type": "markdown",
   "metadata": {
    "deletable": false,
    "editable": false,
    "id": "pjcelkFqV8PR"
   },
   "source": [
    "<a href=\"https://ondiande.com/contact/\"><img align=\"center\" src=\"https://i.ibb.co/B43qn24/officially-licensed-logo.png\" alt=\"ONDIA Contact\" width=\"110\" height=\"200\" title=\"This notebook is licensed by ONDIA. Please contact the authorized persons about the conditions under which you can use or share.\"></a>"
   ]
  }
 ],
 "metadata": {
  "colab": {
   "provenance": [
    {
     "file_id": "1F8Ul2u7h9i9IQx5FDqVHJRsk6YPoOPBb",
     "timestamp": 1673022924234
    },
    {
     "file_id": "11XAqQ0T6shqmXGPZRiiUt8MIQEjvcH5T",
     "timestamp": 1642515419901
    }
   ]
  },
  "kernelspec": {
   "display_name": "course1_env",
   "language": "python",
   "name": "course1_env"
  },
  "language_info": {
   "codemirror_mode": {
    "name": "ipython",
    "version": 3
   },
   "file_extension": ".py",
   "mimetype": "text/x-python",
   "name": "python",
   "nbconvert_exporter": "python",
   "pygments_lexer": "ipython3",
   "version": "3.12.7"
  },
  "toc": {
   "base_numbering": "",
   "nav_menu": {},
   "number_sections": false,
   "sideBar": true,
   "skip_h1_title": false,
   "title_cell": "Table of Contents",
   "title_sidebar": "Contents",
   "toc_cell": false,
   "toc_position": {
    "height": "calc(100% - 180px)",
    "left": "10px",
    "top": "150px",
    "width": "307.2px"
   },
   "toc_section_display": true,
   "toc_window_display": true
  },
  "varInspector": {
   "cols": {
    "lenName": 16,
    "lenType": 16,
    "lenVar": 40
   },
   "kernels_config": {
    "python": {
     "delete_cmd_postfix": "",
     "delete_cmd_prefix": "del ",
     "library": "var_list.py",
     "varRefreshCmd": "print(var_dic_list())"
    },
    "r": {
     "delete_cmd_postfix": ") ",
     "delete_cmd_prefix": "rm(",
     "library": "var_list.r",
     "varRefreshCmd": "cat(var_dic_list()) "
    }
   },
   "types_to_exclude": [
    "module",
    "function",
    "builtin_function_or_method",
    "instance",
    "_Feature"
   ],
   "window_display": false
  }
 },
 "nbformat": 4,
 "nbformat_minor": 4
}
