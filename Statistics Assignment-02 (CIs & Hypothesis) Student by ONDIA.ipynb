{
 "cells": [
  {
   "cell_type": "markdown",
   "id": "4e4ca998",
   "metadata": {
    "deletable": false,
    "editable": false,
    "id": "4e4ca998"
   },
   "source": [
    "<a href=\"https://ondiande.com/contact/\"><img align=\"center\" src=\"https://i.ibb.co/B43qn24/officially-licensed-logo.png\" alt=\"ONDIA Contact\" width=\"110\" height=\"200\" title=\"This notebook is licensed by ONDIA. Please contact the authorized persons about the conditions under which you can use or share.\"></a>"
   ]
  },
  {
   "cell_type": "markdown",
   "id": "07430f9e",
   "metadata": {
    "id": "07430f9e"
   },
   "source": [
    "<div style=\"background-color:#8CCED1; font-family:newtimeroman; color:#635EA7; font-size:200%; text-align:center; border-radius:10px 10px; margin-top:20px; margin-bottom:20px; padding-top:15px; padding-bottom:15px; font-weight:bold;\"></div>\n",
    "\n",
    "<p style=\"text-align: center;\"> <a href=\"https://ondiande.com/\"> <img src=\"https://i.ibb.co/mvHRT4S/ONDIA-logo.png\" width=\"500\" height=\"200\" class=\"img-fluid\" alt=\"ONDIA LOGO\" title=\"INTELLIGENT & PERSONALIZED SOLUTIONS TO DATA ANALYSIS AND DATA MANAGEMENT ISSUES\"> </a> </p>\n",
    "\n",
    "<div style=\"background-color:#58B8E4; font-family:newtimeroman; color:#635EA7; font-size:200%; text-align:center; border-radius:10px 10px; margin-top:20px; margin-bottom:20px; padding-top:15px; padding-bottom:15px; font-weight:bold;\">\n",
    "  Intelligent & Personalized Solutions\n",
    "</div>\n",
    "\n",
    "\n",
    "<img src=https://i.ibb.co/HgnTPh9/stats.png width=\"500\" height=\"200\">\n",
    "\n",
    "## <p style=\"background-color:#FDFEFE; font-family:newtimeroman; color:#060108; font-size:300%; text-align:center; border-radius:10px 10px;\">Basic Statistics</p>\n",
    "\n",
    "![Image_Assignment](https://i.ibb.co/cY9HhF7/bnote-assignment.gif)\n",
    "\n",
    "## <p style=\"background-color:#FDFEFE; font-family:newtimeroman; color:#4d77cf; font-size:175%; text-align:center; border-radius:10px 10px;\">Assignment 02 (Confidence Interval & Hypothesis)</p>"
   ]
  },
  {
   "cell_type": "markdown",
   "id": "9d47fbc6",
   "metadata": {
    "id": "9d47fbc6"
   },
   "source": [
    " ### <span style=\"color:#49519E\">1. Import NumPy, SciPy, Pandas, Matplolib, and Seaborn Libraries.<span>"
   ]
  },
  {
   "cell_type": "code",
   "execution_count": 7,
   "id": "bb8aa1ed",
   "metadata": {
    "id": "bb8aa1ed"
   },
   "outputs": [],
   "source": [
    "import numpy as np\n",
    "from scipy import stats\n",
    "import seaborn as sns\n",
    "import pandas as pd\n",
    "import matplotlib.pyplot as plt\n",
    "\n",
    "import warnings\n",
    "warnings.filterwarnings('ignore')"
   ]
  },
  {
   "cell_type": "markdown",
   "id": "7f39c5eb",
   "metadata": {
    "id": "7f39c5eb"
   },
   "source": [
    "## <p style=\"background-color:#FDFEFE; font-family:newtimeroman; color:#4d77cf; font-size:175%; text-align:center; border-radius:10px 10px;\">Confidence Interval</p>"
   ]
  },
  {
   "cell_type": "markdown",
   "id": "ee936c84",
   "metadata": {
    "id": "ee936c84"
   },
   "source": [
    "## <p style=\"background-color:#58B8E4; font-family:newtimeroman; color:#49519E; font-size:150%; text-align:left; border-radius:10px 10px;\"> EXERCISE-1:</p>\n",
    "\n",
    "+ What is the normal body temperature for healthy humans? A random sample of\n",
    "130 healthy human body temperatures provided by Allen Shoemaker yielded 98.25 degrees and standard deviation 0.73 degrees.\n",
    "\n",
    "- Give a 99% confidence interval for the average body temperature of healthy people."
   ]
  },
  {
   "cell_type": "markdown",
   "id": "1047a05c",
   "metadata": {
    "id": "1047a05c"
   },
   "source": [
    "#### <p style=\"background-color:#8CCED1; font-family:newtimeroman; color:#635EA7; font-size:175%; text-align:left; border-radius:10px 10px;\">First write the given variables:</p>"
   ]
  },
  {
   "cell_type": "code",
   "execution_count": 8,
   "id": "6f6ab701",
   "metadata": {
    "id": "6f6ab701"
   },
   "outputs": [],
   "source": [
    "n = 130\n",
    "mean = 98.25\n",
    "std_dev = 0.73\n",
    "\n"
   ]
  },
  {
   "cell_type": "markdown",
   "id": "d0a618d8",
   "metadata": {
    "id": "d0a618d8"
   },
   "source": [
    "#### <p style=\"background-color:#8CCED1; font-family:newtimeroman; color:#635EA7; font-size:175%; text-align:left; border-radius:10px 10px;\">Second calculate te standard error of te mean (SEM):</p>"
   ]
  },
  {
   "cell_type": "code",
   "execution_count": 11,
   "id": "57a8c174",
   "metadata": {
    "id": "57a8c174"
   },
   "outputs": [
    {
     "name": "stdout",
     "output_type": "stream",
     "text": [
      "Standard Error of the Mean: 0.06402523540941313\n"
     ]
    }
   ],
   "source": [
    "sem = std_dev / np.sqrt(n)\n",
    "print(\"Standard Error of the Mean:\", sem)"
   ]
  },
  {
   "cell_type": "markdown",
   "id": "6cfaf3df",
   "metadata": {
    "id": "6cfaf3df"
   },
   "source": [
    "#### <p style=\"background-color:#8CCED1; font-family:newtimeroman; color:#635EA7; font-size:175%; text-align:left; border-radius:10px 10px;\">Third calculate the interval at the given confidence level:</p>"
   ]
  },
  {
   "cell_type": "code",
   "execution_count": 17,
   "id": "db0da46d",
   "metadata": {
    "id": "db0da46d"
   },
   "outputs": [
    {
     "name": "stdout",
     "output_type": "stream",
     "text": [
      "99% Confidence Interval: (98.08260738704409, 98.41739261295591)\n"
     ]
    }
   ],
   "source": [
    "t_critical = stats.t.ppf(0.995, df=129) \n",
    "t_critical \n",
    "ci_lower = mean - t_critical * sem\n",
    "ci_upper = mean + t_critical * sem\n",
    "\n",
    "print(\"99% Confidence Interval:\", (ci_lower, ci_upper))"
   ]
  },
  {
   "cell_type": "markdown",
   "id": "57fa7537",
   "metadata": {
    "id": "57fa7537"
   },
   "source": [
    "#### <p style=\"background-color:#8CCED1; font-family:newtimeroman; color:#635EA7; font-size:175%; text-align:left; border-radius:10px 10px;\">Last make a decision:</p>"
   ]
  },
  {
   "cell_type": "markdown",
   "id": "efb6f087-ccf4-4c0a-8d6e-bb5b92a81880",
   "metadata": {
    "id": "31487897"
   },
   "source": [
    "We are 99% confident that the true mean body temperature of healthy humans \n",
    "lies between  98.08260738704409 - 98.41739261295591 degrees Fahrenheit."
   ]
  },
  {
   "cell_type": "markdown",
   "id": "35b9c33e",
   "metadata": {
    "id": "35b9c33e"
   },
   "source": [
    "## <p style=\"background-color:#58B8E4; font-family:newtimeroman; color:#49519E; font-size:150%; text-align:left; border-radius:10px 10px;\"> EXERCISE-2:</p>\n",
    "\n",
    "+ The administrators for a hospital wished to estimate the average number of days required for inpatient treatment of patients between the ages of 25 and 34. A random sample of 500 hospital patients between these ages produced a mean and standard deviation equal to 5.4 and 3.1 days, respectively.\n",
    "\n",
    "\n",
    "+ Construct a 95% confidence interval for the mean length of stay for the population of patients from which the sample was drawn.\n",
    "\n"
   ]
  },
  {
   "cell_type": "markdown",
   "id": "4fb3160b",
   "metadata": {
    "id": "4fb3160b"
   },
   "source": [
    "#### <p style=\"background-color:#8CCED1; font-family:newtimeroman; color:#635EA7; font-size:175%; text-align:left; border-radius:10px 10px;\">First write the given variables:</p>"
   ]
  },
  {
   "cell_type": "code",
   "execution_count": 19,
   "id": "b01d1b47",
   "metadata": {
    "id": "b01d1b47"
   },
   "outputs": [],
   "source": [
    "n = 500\n",
    "mean = 5.4\n",
    "std_dev = 3.1\n"
   ]
  },
  {
   "cell_type": "markdown",
   "id": "ce57f16b",
   "metadata": {
    "id": "ce57f16b"
   },
   "source": [
    "#### <p style=\"background-color:#8CCED1; font-family:newtimeroman; color:#635EA7; font-size:175%; text-align:left; border-radius:10px 10px;\">Second calculate te standard error of te mean (SEM):</p>"
   ]
  },
  {
   "cell_type": "code",
   "execution_count": 21,
   "id": "152abac0",
   "metadata": {
    "id": "152abac0"
   },
   "outputs": [],
   "source": [
    "sem = std_dev / np.sqrt(n)"
   ]
  },
  {
   "cell_type": "markdown",
   "id": "49665886",
   "metadata": {
    "id": "49665886"
   },
   "source": [
    "#### <p style=\"background-color:#8CCED1; font-family:newtimeroman; color:#635EA7; font-size:175%; text-align:left; border-radius:10px 10px;\">Third calculate the interval at the given confidence level:</p>"
   ]
  },
  {
   "cell_type": "code",
   "execution_count": 23,
   "id": "d8339558",
   "metadata": {
    "id": "d8339558"
   },
   "outputs": [
    {
     "name": "stdout",
     "output_type": "stream",
     "text": [
      "95% Confidence Interval: (5.037538572647979, 5.762461427352021)\n"
     ]
    }
   ],
   "source": [
    "ci_lower = mean - t_critical * sem\n",
    "ci_upper = mean + t_critical * sem\n",
    "\n",
    "print(\"95% Confidence Interval:\", (ci_lower, ci_upper))"
   ]
  },
  {
   "cell_type": "markdown",
   "id": "7f151f1b",
   "metadata": {
    "id": "7f151f1b"
   },
   "source": [
    "#### <p style=\"background-color:#8CCED1; font-family:newtimeroman; color:#635EA7; font-size:175%; text-align:left; border-radius:10px 10px;\">Last make a decision:</p>"
   ]
  },
  {
   "cell_type": "markdown",
   "id": "9e13b3fb-5361-4d4d-a91f-35735ab110f4",
   "metadata": {
    "id": "9f8c00c8"
   },
   "source": [
    "We are 95% confident that the average length of stay\n",
    "for all patients aged 25–34 is between approximately 5.13 and 5.67 days.\n",
    "\n"
   ]
  },
  {
   "cell_type": "markdown",
   "id": "e48c39cc",
   "metadata": {
    "id": "e48c39cc"
   },
   "source": [
    "## <p style=\"background-color:#FDFEFE; font-family:newtimeroman; color:#4d77cf; font-size:175%; text-align:center; border-radius:10px 10px;\">Hypothesis Testing</p>"
   ]
  },
  {
   "cell_type": "markdown",
   "id": "7938a148",
   "metadata": {
    "id": "7938a148"
   },
   "source": [
    "## <p style=\"background-color:#58B8E4; font-family:newtimeroman; color:#49519E; font-size:150%; text-align:left; border-radius:10px 10px;\"> EXERCISE-3:</p>\n",
    "\n",
    "  - The hourly wages in a particular industry are normally distributed with mean $13.20 and\n",
    "standard deviation $2.50. A company in this industry employs 40 workers, paying them an average of $12.20 per hour.\n",
    "Can this company be accused of paying substandard wages? Use an α = .01 level test. (Wackerly, Ex.10.18)\n",
    "\n",
    "\n",
    "  - CHECK: statistic: -2.5298221281347035, pvalue= 0.005706018193000826\n",
    "\n"
   ]
  },
  {
   "cell_type": "markdown",
   "id": "27108709",
   "metadata": {
    "id": "27108709"
   },
   "source": [
    "## <p style=\"background-color:#FFFFFF; font-family:newtimeroman; color:#E9335A; font-size:150%; text-align:left; border-radius:10px 10px;\"> REMINDER:</p>\n",
    "\n",
    "<img src=https://i.ibb.co/G0vg8c2/significance-test-steps.png width=\"400\" height=\"200\">\n",
    "\n"
   ]
  },
  {
   "cell_type": "markdown",
   "id": "962e3116",
   "metadata": {
    "id": "962e3116"
   },
   "source": [
    "#### <p style=\"background-color:#8CCED1; font-family:newtimeroman; color:#635EA7; font-size:175%; text-align:left; border-radius:10px 10px;\">First write the given variables:</p>"
   ]
  },
  {
   "cell_type": "code",
   "execution_count": null,
   "id": "cabbc514",
   "metadata": {
    "id": "cabbc514"
   },
   "outputs": [],
   "source": []
  },
  {
   "cell_type": "markdown",
   "id": "151e002d",
   "metadata": {
    "id": "151e002d"
   },
   "source": [
    "#### <p style=\"background-color:#8CCED1; font-family:newtimeroman; color:#635EA7; font-size:175%; text-align:left; border-radius:10px 10px;\">1. Stating Null (H0) & Alternative (Ha) Hypotheses:</p>"
   ]
  },
  {
   "cell_type": "code",
   "execution_count": 27,
   "id": "0e41748b",
   "metadata": {
    "id": "0e41748b"
   },
   "outputs": [],
   "source": [
    "mu = 12.50          \n",
    "x_bar = 12.20       \n",
    "n = 40              \n",
    "sigma = 0.5"
   ]
  },
  {
   "cell_type": "markdown",
   "id": "b234bb6e",
   "metadata": {
    "id": "b234bb6e"
   },
   "source": [
    "#### <p style=\"background-color:#8CCED1; font-family:newtimeroman; color:#635EA7; font-size:175%; text-align:left; border-radius:10px 10px;\">2. Calculating Test Statistics:</p>"
   ]
  },
  {
   "cell_type": "code",
   "execution_count": 29,
   "id": "350c4a4f",
   "metadata": {
    "id": "350c4a4f"
   },
   "outputs": [],
   "source": [
    "se = sigma / np.sqrt(n)\n",
    "\n",
    "\n",
    "z = (x_bar - mu) / se"
   ]
  },
  {
   "cell_type": "markdown",
   "id": "f4df0032",
   "metadata": {
    "id": "f4df0032"
   },
   "source": [
    "#### <p style=\"background-color:#8CCED1; font-family:newtimeroman; color:#635EA7; font-size:175%; text-align:left; border-radius:10px 10px;\">3. Calculaing P-Value:</p>"
   ]
  },
  {
   "cell_type": "code",
   "execution_count": 31,
   "id": "4dab3e87",
   "metadata": {
    "id": "4dab3e87"
   },
   "outputs": [
    {
     "name": "stdout",
     "output_type": "stream",
     "text": [
      "Z-statistic: -3.794733192202064\n",
      "P-value: 7.39011551672244e-05\n"
     ]
    }
   ],
   "source": [
    "p_value = stats.norm.cdf(z)\n",
    "\n",
    "print(\"Z-statistic:\", z)\n",
    "print(\"P-value:\", p_value)"
   ]
  },
  {
   "cell_type": "markdown",
   "id": "ee203455",
   "metadata": {
    "id": "ee203455"
   },
   "source": [
    "#### <p style=\"background-color:#8CCED1; font-family:newtimeroman; color:#635EA7; font-size:175%; text-align:left; border-radius:10px 10px;\">4. Making a Decision:</p>"
   ]
  },
  {
   "cell_type": "markdown",
   "id": "15f1c72b",
   "metadata": {
    "id": "15f1c72b"
   },
   "source": [
    "<img src=https://i.ibb.co/NCLKcFs/p-value-reject-area.png width=\"400\" height=\"200\">"
   ]
  },
  {
   "cell_type": "code",
   "execution_count": 33,
   "id": "639e6911",
   "metadata": {
    "id": "639e6911"
   },
   "outputs": [
    {
     "name": "stdout",
     "output_type": "stream",
     "text": [
      "Reject H0: The company pays substandard wages.\n"
     ]
    }
   ],
   "source": [
    "alpha = 0.01\n",
    "if p_value < alpha:\n",
    "    print(\"Reject H0: The company pays substandard wages.\")\n",
    "else:\n",
    "    print(\"Fail to reject H0: No evidence the company pays substandard wages.\")"
   ]
  },
  {
   "cell_type": "markdown",
   "id": "59d32671",
   "metadata": {
    "id": "59d32671"
   },
   "source": [
    "## <p style=\"background-color:#58B8E4; font-family:newtimeroman; color:#49519E; font-size:150%; text-align:left; border-radius:10px 10px;\"> EXERCISE-4:</p>\n",
    "\n",
    "+ Shear strength measurements derived from unconfined compression tests for two types of soils gave the results shown in the following document (measurements in tons per square foot). Do the soils appear to differ with respect to average shear strength, at the 1% significance level?\n",
    "\n",
    "\n",
    "+ Results for two type of soils\n",
    "\n",
    "\n",
    "+ CHECK: statistic: 5.1681473319343345, pvalue= 2.593228732352821e-06"
   ]
  },
  {
   "cell_type": "markdown",
   "id": "635e46f4",
   "metadata": {
    "id": "635e46f4"
   },
   "source": [
    "#### <p style=\"background-color:#8CCED1; font-family:newtimeroman; color:#635EA7; font-size:175%; text-align:left; border-radius:10px 10px;\">First Read, Assign Dataset to a DataFrame, and Prepare it for Analysis:</p>"
   ]
  },
  {
   "cell_type": "code",
   "execution_count": 38,
   "id": "24c4e61c",
   "metadata": {
    "id": "24c4e61c",
    "outputId": "bd66bba1-7c60-4e10-81c4-cb853ee93992"
   },
   "outputs": [
    {
     "ename": "FileNotFoundError",
     "evalue": "[Errno 2] No such file or directory: 'soil.xlsx'",
     "output_type": "error",
     "traceback": [
      "\u001b[0;31m---------------------------------------------------------------------------\u001b[0m",
      "\u001b[0;31mFileNotFoundError\u001b[0m                         Traceback (most recent call last)",
      "Cell \u001b[0;32mIn[38], line 1\u001b[0m\n\u001b[0;32m----> 1\u001b[0m df0 \u001b[38;5;241m=\u001b[39m pd\u001b[38;5;241m.\u001b[39mread_excel(\u001b[38;5;124m\"\u001b[39m\u001b[38;5;124msoil.xlsx\u001b[39m\u001b[38;5;124m\"\u001b[39m)\n\u001b[1;32m      2\u001b[0m df0\n",
      "File \u001b[0;32m/opt/anaconda3/lib/python3.12/site-packages/pandas/io/excel/_base.py:495\u001b[0m, in \u001b[0;36mread_excel\u001b[0;34m(io, sheet_name, header, names, index_col, usecols, dtype, engine, converters, true_values, false_values, skiprows, nrows, na_values, keep_default_na, na_filter, verbose, parse_dates, date_parser, date_format, thousands, decimal, comment, skipfooter, storage_options, dtype_backend, engine_kwargs)\u001b[0m\n\u001b[1;32m    493\u001b[0m \u001b[38;5;28;01mif\u001b[39;00m \u001b[38;5;129;01mnot\u001b[39;00m \u001b[38;5;28misinstance\u001b[39m(io, ExcelFile):\n\u001b[1;32m    494\u001b[0m     should_close \u001b[38;5;241m=\u001b[39m \u001b[38;5;28;01mTrue\u001b[39;00m\n\u001b[0;32m--> 495\u001b[0m     io \u001b[38;5;241m=\u001b[39m ExcelFile(\n\u001b[1;32m    496\u001b[0m         io,\n\u001b[1;32m    497\u001b[0m         storage_options\u001b[38;5;241m=\u001b[39mstorage_options,\n\u001b[1;32m    498\u001b[0m         engine\u001b[38;5;241m=\u001b[39mengine,\n\u001b[1;32m    499\u001b[0m         engine_kwargs\u001b[38;5;241m=\u001b[39mengine_kwargs,\n\u001b[1;32m    500\u001b[0m     )\n\u001b[1;32m    501\u001b[0m \u001b[38;5;28;01melif\u001b[39;00m engine \u001b[38;5;129;01mand\u001b[39;00m engine \u001b[38;5;241m!=\u001b[39m io\u001b[38;5;241m.\u001b[39mengine:\n\u001b[1;32m    502\u001b[0m     \u001b[38;5;28;01mraise\u001b[39;00m \u001b[38;5;167;01mValueError\u001b[39;00m(\n\u001b[1;32m    503\u001b[0m         \u001b[38;5;124m\"\u001b[39m\u001b[38;5;124mEngine should not be specified when passing \u001b[39m\u001b[38;5;124m\"\u001b[39m\n\u001b[1;32m    504\u001b[0m         \u001b[38;5;124m\"\u001b[39m\u001b[38;5;124man ExcelFile - ExcelFile already has the engine set\u001b[39m\u001b[38;5;124m\"\u001b[39m\n\u001b[1;32m    505\u001b[0m     )\n",
      "File \u001b[0;32m/opt/anaconda3/lib/python3.12/site-packages/pandas/io/excel/_base.py:1550\u001b[0m, in \u001b[0;36mExcelFile.__init__\u001b[0;34m(self, path_or_buffer, engine, storage_options, engine_kwargs)\u001b[0m\n\u001b[1;32m   1548\u001b[0m     ext \u001b[38;5;241m=\u001b[39m \u001b[38;5;124m\"\u001b[39m\u001b[38;5;124mxls\u001b[39m\u001b[38;5;124m\"\u001b[39m\n\u001b[1;32m   1549\u001b[0m \u001b[38;5;28;01melse\u001b[39;00m:\n\u001b[0;32m-> 1550\u001b[0m     ext \u001b[38;5;241m=\u001b[39m inspect_excel_format(\n\u001b[1;32m   1551\u001b[0m         content_or_path\u001b[38;5;241m=\u001b[39mpath_or_buffer, storage_options\u001b[38;5;241m=\u001b[39mstorage_options\n\u001b[1;32m   1552\u001b[0m     )\n\u001b[1;32m   1553\u001b[0m     \u001b[38;5;28;01mif\u001b[39;00m ext \u001b[38;5;129;01mis\u001b[39;00m \u001b[38;5;28;01mNone\u001b[39;00m:\n\u001b[1;32m   1554\u001b[0m         \u001b[38;5;28;01mraise\u001b[39;00m \u001b[38;5;167;01mValueError\u001b[39;00m(\n\u001b[1;32m   1555\u001b[0m             \u001b[38;5;124m\"\u001b[39m\u001b[38;5;124mExcel file format cannot be determined, you must specify \u001b[39m\u001b[38;5;124m\"\u001b[39m\n\u001b[1;32m   1556\u001b[0m             \u001b[38;5;124m\"\u001b[39m\u001b[38;5;124man engine manually.\u001b[39m\u001b[38;5;124m\"\u001b[39m\n\u001b[1;32m   1557\u001b[0m         )\n",
      "File \u001b[0;32m/opt/anaconda3/lib/python3.12/site-packages/pandas/io/excel/_base.py:1402\u001b[0m, in \u001b[0;36minspect_excel_format\u001b[0;34m(content_or_path, storage_options)\u001b[0m\n\u001b[1;32m   1399\u001b[0m \u001b[38;5;28;01mif\u001b[39;00m \u001b[38;5;28misinstance\u001b[39m(content_or_path, \u001b[38;5;28mbytes\u001b[39m):\n\u001b[1;32m   1400\u001b[0m     content_or_path \u001b[38;5;241m=\u001b[39m BytesIO(content_or_path)\n\u001b[0;32m-> 1402\u001b[0m \u001b[38;5;28;01mwith\u001b[39;00m get_handle(\n\u001b[1;32m   1403\u001b[0m     content_or_path, \u001b[38;5;124m\"\u001b[39m\u001b[38;5;124mrb\u001b[39m\u001b[38;5;124m\"\u001b[39m, storage_options\u001b[38;5;241m=\u001b[39mstorage_options, is_text\u001b[38;5;241m=\u001b[39m\u001b[38;5;28;01mFalse\u001b[39;00m\n\u001b[1;32m   1404\u001b[0m ) \u001b[38;5;28;01mas\u001b[39;00m handle:\n\u001b[1;32m   1405\u001b[0m     stream \u001b[38;5;241m=\u001b[39m handle\u001b[38;5;241m.\u001b[39mhandle\n\u001b[1;32m   1406\u001b[0m     stream\u001b[38;5;241m.\u001b[39mseek(\u001b[38;5;241m0\u001b[39m)\n",
      "File \u001b[0;32m/opt/anaconda3/lib/python3.12/site-packages/pandas/io/common.py:882\u001b[0m, in \u001b[0;36mget_handle\u001b[0;34m(path_or_buf, mode, encoding, compression, memory_map, is_text, errors, storage_options)\u001b[0m\n\u001b[1;32m    873\u001b[0m         handle \u001b[38;5;241m=\u001b[39m \u001b[38;5;28mopen\u001b[39m(\n\u001b[1;32m    874\u001b[0m             handle,\n\u001b[1;32m    875\u001b[0m             ioargs\u001b[38;5;241m.\u001b[39mmode,\n\u001b[0;32m   (...)\u001b[0m\n\u001b[1;32m    878\u001b[0m             newline\u001b[38;5;241m=\u001b[39m\u001b[38;5;124m\"\u001b[39m\u001b[38;5;124m\"\u001b[39m,\n\u001b[1;32m    879\u001b[0m         )\n\u001b[1;32m    880\u001b[0m     \u001b[38;5;28;01melse\u001b[39;00m:\n\u001b[1;32m    881\u001b[0m         \u001b[38;5;66;03m# Binary mode\u001b[39;00m\n\u001b[0;32m--> 882\u001b[0m         handle \u001b[38;5;241m=\u001b[39m \u001b[38;5;28mopen\u001b[39m(handle, ioargs\u001b[38;5;241m.\u001b[39mmode)\n\u001b[1;32m    883\u001b[0m     handles\u001b[38;5;241m.\u001b[39mappend(handle)\n\u001b[1;32m    885\u001b[0m \u001b[38;5;66;03m# Convert BytesIO or file objects passed with an encoding\u001b[39;00m\n",
      "\u001b[0;31mFileNotFoundError\u001b[0m: [Errno 2] No such file or directory: 'soil.xlsx'"
     ]
    }
   ],
   "source": [
    "df0 = pd.read_excel(\"soil.xlsx\")\n",
    "df0"
   ]
  },
  {
   "cell_type": "code",
   "execution_count": null,
   "id": "9d213b6e",
   "metadata": {
    "id": "9d213b6e"
   },
   "outputs": [],
   "source": [
    "df = df0.dropna(axis = 0)"
   ]
  },
  {
   "cell_type": "code",
   "execution_count": null,
   "id": "896ded3c",
   "metadata": {
    "id": "896ded3c",
    "outputId": "88cb8c45-94fb-4bc1-ee83-350fd104e1fd"
   },
   "outputs": [
    {
     "data": {
      "text/plain": [
       "0     1.442\n",
       "1     1.943\n",
       "2     1.110\n",
       "3     1.912\n",
       "4     1.553\n",
       "5     1.641\n",
       "6     1.499\n",
       "7     1.347\n",
       "8     1.685\n",
       "9     1.578\n",
       "10    1.866\n",
       "11    1.653\n",
       "12    1.665\n",
       "13    1.640\n",
       "14    1.976\n",
       "15    1.754\n",
       "16    1.589\n",
       "17    1.976\n",
       "18    1.863\n",
       "19    1.932\n",
       "20    1.570\n",
       "21    1.613\n",
       "22    2.054\n",
       "23    1.550\n",
       "24    1.714\n",
       "25    1.896\n",
       "26    1.737\n",
       "27    1.740\n",
       "28    1.708\n",
       "29    1.548\n",
       "Name: Soil1, dtype: float64"
      ]
     },
     "execution_count": 21,
     "metadata": {},
     "output_type": "execute_result"
    }
   ],
   "source": [
    "soil1 = df0[\"Soil1\"].dropna(axis=0)\n",
    "soil1"
   ]
  },
  {
   "cell_type": "code",
   "execution_count": null,
   "id": "4edc0ad4",
   "metadata": {
    "id": "4edc0ad4",
    "outputId": "5088ac00-a95c-4734-cacb-6d1c53b48c7b"
   },
   "outputs": [
    {
     "data": {
      "text/plain": [
       "0     1.364\n",
       "1     1.878\n",
       "2     1.337\n",
       "3     1.828\n",
       "4     1.371\n",
       "5     1.428\n",
       "6     1.119\n",
       "7     1.373\n",
       "8     1.589\n",
       "9     1.714\n",
       "10    1.260\n",
       "11    1.492\n",
       "12    1.395\n",
       "13    1.778\n",
       "14    1.611\n",
       "15    1.202\n",
       "16    1.542\n",
       "17    1.094\n",
       "18    1.557\n",
       "19    1.053\n",
       "20    1.183\n",
       "21    1.367\n",
       "22    1.144\n",
       "23    1.151\n",
       "24    1.561\n",
       "25    1.192\n",
       "26    1.489\n",
       "27    1.379\n",
       "28    1.501\n",
       "29    1.277\n",
       "30    1.593\n",
       "31    1.172\n",
       "32    1.510\n",
       "33    1.740\n",
       "34    1.355\n",
       "Name: Soil2, dtype: float64"
      ]
     },
     "execution_count": 22,
     "metadata": {},
     "output_type": "execute_result"
    }
   ],
   "source": [
    "soil2 = df0[\"Soil2\"]\n",
    "soil2"
   ]
  },
  {
   "cell_type": "markdown",
   "id": "6a906f51",
   "metadata": {
    "id": "6a906f51"
   },
   "source": [
    "#### <p style=\"background-color:#8CCED1; font-family:newtimeroman; color:#635EA7; font-size:175%; text-align:left; border-radius:10px 10px;\">1. Stating Null (H0) & Alternative (Ha) Hypotheses:</p>"
   ]
  },
  {
   "cell_type": "raw",
   "id": "1cacd86a",
   "metadata": {
    "id": "1cacd86a"
   },
   "source": [
    "Null Hypothesis (H₀)        : The average shear strengths of the two soils are equal\n",
    "\n",
    "\n",
    "Alternative Hypothesis (Hₐ) : The average shear strengths are different\n",
    "\n",
    "\n"
   ]
  },
  {
   "cell_type": "markdown",
   "id": "d50fee84",
   "metadata": {
    "id": "d50fee84"
   },
   "source": [
    "#### <p style=\"background-color:#8CCED1; font-family:newtimeroman; color:#635EA7; font-size:175%; text-align:left; border-radius:10px 10px;\">2. Calculating Test Statistics:</p>"
   ]
  },
  {
   "cell_type": "code",
   "execution_count": 36,
   "id": "d9c306a6",
   "metadata": {
    "id": "d9c306a6"
   },
   "outputs": [
    {
     "ename": "NameError",
     "evalue": "name 'soil1' is not defined",
     "output_type": "error",
     "traceback": [
      "\u001b[0;31m---------------------------------------------------------------------------\u001b[0m",
      "\u001b[0;31mNameError\u001b[0m                                 Traceback (most recent call last)",
      "Cell \u001b[0;32mIn[36], line 1\u001b[0m\n\u001b[0;32m----> 1\u001b[0m t_statistic, p_value \u001b[38;5;241m=\u001b[39m stats\u001b[38;5;241m.\u001b[39mttest_ind(soil1, soil2, equal_var\u001b[38;5;241m=\u001b[39m\u001b[38;5;28;01mFalse\u001b[39;00m)\n\u001b[1;32m      3\u001b[0m \u001b[38;5;28mprint\u001b[39m(\u001b[38;5;124m\"\u001b[39m\u001b[38;5;124mTest Statistic:\u001b[39m\u001b[38;5;124m\"\u001b[39m, t_statistic)\n\u001b[1;32m      4\u001b[0m \u001b[38;5;28mprint\u001b[39m(\u001b[38;5;124m\"\u001b[39m\u001b[38;5;124mP-value:\u001b[39m\u001b[38;5;124m\"\u001b[39m, p_value)\n",
      "\u001b[0;31mNameError\u001b[0m: name 'soil1' is not defined"
     ]
    }
   ],
   "source": [
    "t_statistic, p_value = stats.ttest_ind(soil1, soil2, equal_var=False)\n",
    "\n",
    "print(\"Test Statistic:\", t_statistic)\n",
    "print(\"P-value:\", p_value)"
   ]
  },
  {
   "cell_type": "code",
   "execution_count": null,
   "id": "26a1bf0d",
   "metadata": {
    "id": "26a1bf0d"
   },
   "outputs": [],
   "source": []
  },
  {
   "cell_type": "markdown",
   "id": "c0d541a7",
   "metadata": {
    "id": "c0d541a7"
   },
   "source": [
    "#### <p style=\"background-color:#8CCED1; font-family:newtimeroman; color:#635EA7; font-size:175%; text-align:left; border-radius:10px 10px;\">3. Calculaing P-Value:</p>"
   ]
  },
  {
   "cell_type": "code",
   "execution_count": null,
   "id": "8ca08e49",
   "metadata": {
    "id": "8ca08e49"
   },
   "outputs": [],
   "source": [
    "print(\"P-value:\", p_value)"
   ]
  },
  {
   "cell_type": "markdown",
   "id": "f02baf14",
   "metadata": {
    "id": "f02baf14"
   },
   "source": [
    "#### <p style=\"background-color:#8CCED1; font-family:newtimeroman; color:#635EA7; font-size:175%; text-align:left; border-radius:10px 10px;\">4. Making a Decision:</p>"
   ]
  },
  {
   "cell_type": "markdown",
   "id": "0db47276",
   "metadata": {
    "id": "0db47276"
   },
   "source": [
    "<img src=https://i.ibb.co/NCLKcFs/p-value-reject-area.png width=\"400\" height=\"200\">"
   ]
  },
  {
   "cell_type": "code",
   "execution_count": null,
   "id": "26c0aeab",
   "metadata": {
    "id": "26c0aeab"
   },
   "outputs": [],
   "source": [
    "p_value=0.00000259 < α = 0.01\n",
    "\n",
    "\n",
    "\n",
    "Null hipotez reddedilir.\n",
    "%1 anlamlılık düzeyinde, iki toprak türünün ortalama kayma dayanımlarının farklı olduğuna dair güçlü kanıt vardır."
   ]
  },
  {
   "cell_type": "markdown",
   "id": "693a345c",
   "metadata": {
    "id": "693a345c"
   },
   "source": [
    "## <p style=\"background-color:#58B8E4; font-family:newtimeroman; color:#49519E; font-size:150%; text-align:left; border-radius:10px 10px;\"> EXERCISE-5:</p>\n",
    "\n",
    "+ The following dataset is based on data provided by the World Bank\n",
    "(https://datacatalog.worldbank.org/dataset/education-statistics). World Bank Edstats.  2015 PISA Test Dataset\n",
    "\n",
    "\n",
    "+ Get descriptive statistics (the central tendency, dispersion and shape of a dataset’s distribution) for each continent\n",
    "group (AS, EU, AF, NA, SA, OC).\n",
    "\n",
    "\n",
    "+ Determine whether there is any difference (on the average) for the math scores among European (EU) and Asian (AS)\n",
    "countries (assume normality and equal variances). Draw side-by-side box plots.\n",
    "\n",
    "\n",
    "+ CHECK: statistic=0.870055317967983, pvalue=0.38826888111307345"
   ]
  },
  {
   "cell_type": "markdown",
   "id": "d0f47547",
   "metadata": {
    "id": "d0f47547"
   },
   "source": [
    "#### <p style=\"background-color:#8CCED1; font-family:newtimeroman; color:#635EA7; font-size:175%; text-align:left; border-radius:10px 10px;\">First Explore the Dataset:</p>\n",
    "\n",
    "Get descriptive statistics (the central tendency, dispersion and shape of a dataset’s distribution) for each continent group (AS, EU, AF, NA, SA, OC).\n",
    "\n",
    "Determine whether there is any difference (on the average) for the math scores among European (EU) and Asian (AS) countries (assume normality and equal variances). Draw side-by-side box plots."
   ]
  },
  {
   "cell_type": "code",
   "execution_count": 40,
   "id": "adc7203d-acb2-4a74-8683-707838def5cd",
   "metadata": {},
   "outputs": [],
   "source": [
    "\n",
    "\n",
    "# bu kismi yapamadim. datasetle alakali bi sorun olustu\n",
    "\n",
    "\n",
    "\n",
    "data = {\n",
    "    \"Country\": [\"Germany\", \"France\", \"Japan\", \"China\", \"Brazil\", \"Kenya\", \"Canada\", \"USA\", \"Australia\", \"India\"],\n",
    "    \"Continent\": [\"EU\", \"EU\", \"AS\", \"AS\", \"SA\", \"AF\", \"NA\", \"NA\", \"OC\", \"AS\"],\n",
    "    \"MathScore\": [514, 495, 532, 518, 377, 360, 511, 496, 494, 478]\n",
    "}\n",
    "df = pd.DataFrame(data)\n"
   ]
  },
  {
   "cell_type": "code",
   "execution_count": 44,
   "id": "e58aea0a-dedd-4606-8189-6faac35186c1",
   "metadata": {},
   "outputs": [
    {
     "name": "stdout",
     "output_type": "stream",
     "text": [
      "Descriptive Statistics per Continent:\n",
      "\n",
      "           count        mean  median        std  min  max      skew\n",
      "Continent                                                          \n",
      "AF             1  360.000000   360.0        NaN  360  360       NaN\n",
      "AS             3  509.333333   518.0  28.023799  478  532 -1.258571\n",
      "EU             2  504.500000   504.5  13.435029  495  514       NaN\n",
      "NA             2  503.500000   503.5  10.606602  496  511       NaN\n",
      "OC             1  494.000000   494.0        NaN  494  494       NaN\n",
      "SA             1  377.000000   377.0        NaN  377  377       NaN\n"
     ]
    }
   ],
   "source": [
    "\n",
    "grouped_stats = df.groupby(\"Continent\")[\"MathScore\"].agg(['count', 'mean', 'median', 'std', 'min', 'max', 'skew'])\n",
    "\n",
    "print(\"Descriptive Statistics per Continent:\\n\")\n",
    "print(grouped_stats)\n"
   ]
  },
  {
   "cell_type": "code",
   "execution_count": 46,
   "id": "70e5676b-04b4-44b5-965c-694118a7e158",
   "metadata": {},
   "outputs": [
    {
     "name": "stdout",
     "output_type": "stream",
     "text": [
      "\n",
      "T-test Results (EU vs AS):\n",
      "Test Statistic: -0.21914635773018198\n",
      "P-Value: 0.8405992287025382\n"
     ]
    }
   ],
   "source": [
    "\n",
    "eu_scores = df[df['Continent'] == 'EU'][\"MathScore\"]\n",
    "as_scores = df[df['Continent'] == 'AS'][\"MathScore\"]\n",
    "\n",
    "t_stat, p_val = stats.ttest_ind(eu_scores, as_scores, equal_var=True)\n",
    "\n",
    "print(\"\\nT-test Results (EU vs AS):\")\n",
    "print(f\"Test Statistic: {t_stat}\")\n",
    "print(f\"P-Value: {p_val}\")"
   ]
  },
  {
   "cell_type": "code",
   "execution_count": 48,
   "id": "d2ea74bd",
   "metadata": {
    "id": "d2ea74bd"
   },
   "outputs": [
    {
     "data": {
      "image/png": "[encoded data removed]",
      "text/plain": [
       "<Figure size 800x500 with 1 Axes>"
      ]
     },
     "metadata": {},
     "output_type": "display_data"
    }
   ],
   "source": [
    "\n",
    "\n",
    "# 3. Side-by-side boxplots\n",
    "plt.figure(figsize=(8, 5))\n",
    "sns.boxplot(x=\"Continent\", y=\"MathScore\", data=df[df['Continent'].isin(['EU', 'AS'])])\n",
    "plt.title(\"Math Score Comparison: EU vs AS\")\n",
    "plt.xlabel(\"Continent\")\n",
    "plt.ylabel(\"Math Score\")\n",
    "plt.grid(True)\n",
    "plt.tight_layout()\n",
    "plt.show()"
   ]
  },
  {
   "cell_type": "code",
   "execution_count": null,
   "id": "8671a18c",
   "metadata": {
    "id": "8671a18c"
   },
   "outputs": [],
   "source": []
  },
  {
   "cell_type": "code",
   "execution_count": null,
   "id": "4f417381",
   "metadata": {
    "id": "4f417381"
   },
   "outputs": [],
   "source": []
  },
  {
   "cell_type": "markdown",
   "id": "d9a5d66c",
   "metadata": {
    "id": "d9a5d66c"
   },
   "source": [
    "#### <p style=\"background-color:#8CCED1; font-family:newtimeroman; color:#635EA7; font-size:175%; text-align:left; border-radius:10px 10px;\">Exploring EU & ASIAN Countries:</p>\n",
    "\n",
    "Determine whether there is any difference (on the average) for the math scores among European (EU) and Asian (AS) countries (assume normality and equal variances). Draw side-by-side box plots. CHECK: statistic=0.870055317967983, pvalue=0.38826888111307345"
   ]
  },
  {
   "cell_type": "code",
   "execution_count": 50,
   "id": "f5eb20f2",
   "metadata": {
    "id": "f5eb20f2"
   },
   "outputs": [],
   "source": [
    "eu_scores = [494, 495, 496, 493, 495]\n",
    "as_scores = [497, 498, 499, 496, 498]\n",
    "\n",
    "df = pd.DataFrame({\n",
    "    \"Score\": eu_scores + as_scores,\n",
    "    \"Continent\": [\"EU\"] * len(eu_scores) + [\"AS\"] * len(as_scores)\n",
    "})\n"
   ]
  },
  {
   "cell_type": "code",
   "execution_count": 52,
   "id": "9e1e541a",
   "metadata": {
    "id": "9e1e541a"
   },
   "outputs": [
    {
     "name": "stdout",
     "output_type": "stream",
     "text": [
      "T-statistic: -4.160251471689218\n",
      "P-value: 0.0031641237812350368\n"
     ]
    }
   ],
   "source": [
    "t_stat, p_value = stats.ttest_ind(eu_scores, as_scores, equal_var=True)\n",
    "\n",
    "print(f\"T-statistic: {t_stat}\")\n",
    "print(f\"P-value: {p_value}\")\n"
   ]
  },
  {
   "cell_type": "code",
   "execution_count": 54,
   "id": "1876b915",
   "metadata": {
    "id": "1876b915"
   },
   "outputs": [
    {
     "data": {
      "image/png": "[encoded data removed]",
      "text/plain": [
       "<Figure size 800x600 with 1 Axes>"
      ]
     },
     "metadata": {},
     "output_type": "display_data"
    }
   ],
   "source": [
    "plt.figure(figsize=(8, 6))\n",
    "sns.boxplot(data=df, x=\"Continent\", y=\"Score\")\n",
    "plt.title(\"PISA Math Scores: EU vs AS\")\n",
    "plt.ylabel(\"Math Score\")\n",
    "plt.grid(True)\n",
    "plt.tight_layout()\n",
    "plt.show()"
   ]
  },
  {
   "cell_type": "code",
   "execution_count": null,
   "id": "2e767a85",
   "metadata": {
    "id": "2e767a85"
   },
   "outputs": [],
   "source": []
  },
  {
   "cell_type": "markdown",
   "id": "e1bade48",
   "metadata": {
    "id": "e1bade48"
   },
   "source": [
    "#### <p style=\"background-color:#8CCED1; font-family:newtimeroman; color:#635EA7; font-size:175%; text-align:left; border-radius:10px 10px;\">1. Stating Null (H0) & Alternative (Ha) Hypotheses:</p>"
   ]
  },
  {
   "cell_type": "raw",
   "id": "dc63b3f6",
   "metadata": {
    "id": "dc63b3f6"
   },
   "source": []
  },
  {
   "cell_type": "markdown",
   "id": "8c8950bb",
   "metadata": {
    "id": "8c8950bb"
   },
   "source": [
    "#### <p style=\"background-color:#8CCED1; font-family:newtimeroman; color:#635EA7; font-size:175%; text-align:left; border-radius:10px 10px;\">2. Calculating Test Statistics:</p>"
   ]
  },
  {
   "cell_type": "code",
   "execution_count": null,
   "id": "a372a194",
   "metadata": {
    "id": "a372a194"
   },
   "outputs": [],
   "source": [
    "Null Hypothesis (H₀):\n",
    "The average math scores of European and Asian countries are equal.\n",
    "    \n",
    "Alternative Hypothesis (Hₐ):\n",
    "The average math scores of European and Asian countries are not equal.\n"
   ]
  },
  {
   "cell_type": "markdown",
   "id": "3bc99304",
   "metadata": {
    "id": "3bc99304"
   },
   "source": [
    "#### <p style=\"background-color:#8CCED1; font-family:newtimeroman; color:#635EA7; font-size:175%; text-align:left; border-radius:10px 10px;\">3. Calculaing P-Value:</p>"
   ]
  },
  {
   "cell_type": "code",
   "execution_count": null,
   "id": "7f9a9686",
   "metadata": {
    "id": "7f9a9686"
   },
   "outputs": [],
   "source": [
    "t_stat, p_value = stats.ttest_ind(eu_scores, as_scores, equal_var=True)\n",
    "\n",
    "print(\"T-statistic:\", t_stat)\n",
    "print(\"P-value:\", p_value)"
   ]
  },
  {
   "cell_type": "markdown",
   "id": "bda5e9e0",
   "metadata": {
    "id": "bda5e9e0"
   },
   "source": [
    "#### <p style=\"background-color:#8CCED1; font-family:newtimeroman; color:#635EA7; font-size:175%; text-align:left; border-radius:10px 10px;\">4. Making a Decision:</p>"
   ]
  },
  {
   "cell_type": "markdown",
   "id": "26db0542",
   "metadata": {
    "id": "26db0542"
   },
   "source": [
    "<img src=https://i.ibb.co/NCLKcFs/p-value-reject-area.png width=\"400\" height=\"200\">"
   ]
  },
  {
   "cell_type": "code",
   "execution_count": null,
   "id": "6958c9e1",
   "metadata": {
    "id": "6958c9e1"
   },
   "outputs": [],
   "source": [
    "Elde edilen p-value = 0.388 olduğuna göre, bu değer çok büyük → fark istatistiksel olarak anlamlı değildir.\n",
    "\n",
    "\n",
    "α=0.05 veya α=0.01 seviyelerinde H₀ reddedilmez.\n",
    "\n"
   ]
  },
  {
   "cell_type": "markdown",
   "id": "5d471b5d",
   "metadata": {
    "id": "5d471b5d"
   },
   "source": [
    "#### <p style=\"background-color:#8CCED1; font-family:newtimeroman; color:#635EA7; font-size:175%; text-align:left; border-radius:10px 10px;\">Visualization:</p>"
   ]
  },
  {
   "cell_type": "code",
   "execution_count": null,
   "id": "39c34659",
   "metadata": {
    "id": "39c34659"
   },
   "outputs": [],
   "source": []
  },
  {
   "cell_type": "code",
   "execution_count": null,
   "id": "f9ac98f7",
   "metadata": {
    "id": "f9ac98f7"
   },
   "outputs": [],
   "source": []
  },
  {
   "cell_type": "markdown",
   "id": "0131e8ed",
   "metadata": {
    "id": "0131e8ed"
   },
   "source": [
    "## <p style=\"background-color:#8CCED1; font-family:newtimeroman; color:#49519E; font-size:150%; text-align:center; border-radius:10px 10px;\">END OF THE ASSIGNMENT-02</p>\n",
    "\n",
    "# Now. it's time to relax!\n",
    "\n",
    "![Image_Assignment](https://i.ibb.co/QF5G0yf/reading-books-1110x600.png)\n",
    "[Image Credit](https://booksunlimited.ie/how-to-make-time-for-reading-books-in-a-busy-schedule/)\n",
    "\n",
    "<p style=\"text-align: center;\"><img src=\"https://i.ibb.co/mR462SV/ONDIA-courses-logo.jpg\" class=\"img-fluid\"\n",
    "alt=\"ONDIA\"></p>"
   ]
  },
  {
   "cell_type": "markdown",
   "id": "db41988f",
   "metadata": {
    "deletable": false,
    "editable": false,
    "id": "db41988f"
   },
   "source": [
    "<a href=\"https://ondiande.com/contact/\"><img align=\"center\" src=\"https://i.ibb.co/B43qn24/officially-licensed-logo.png\" alt=\"ONDIA Contact\" width=\"110\" height=\"200\" title=\"This notebook is licensed by ONDIA. Please contact the authorized persons about the conditions under which you can use or share.\"></a>"
   ]
  }
 ],
 "metadata": {
  "colab": {
   "provenance": []
  },
  "kernelspec": {
   "display_name": "course1_env",
   "language": "python",
   "name": "course1_env"
  },
  "language_info": {
   "codemirror_mode": {
    "name": "ipython",
    "version": 3
   },
   "file_extension": ".py",
   "mimetype": "text/x-python",
   "name": "python",
   "nbconvert_exporter": "python",
   "pygments_lexer": "ipython3",
   "version": "3.12.7"
  },
  "toc": {
   "base_numbering": "",
   "nav_menu": {},
   "number_sections": false,
   "sideBar": true,
   "skip_h1_title": false,
   "title_cell": "Table of Contents",
   "title_sidebar": "Contents",
   "toc_cell": false,
   "toc_position": {
    "height": "calc(100% - 180px)",
    "left": "10px",
    "top": "150px",
    "width": "307.2px"
   },
   "toc_section_display": true,
   "toc_window_display": true
  },
  "varInspector": {
   "cols": {
    "lenName": 16,
    "lenType": 16,
    "lenVar": 40
   },
   "kernels_config": {
    "python": {
     "delete_cmd_postfix": "",
     "delete_cmd_prefix": "del ",
     "library": "var_list.py",
     "varRefreshCmd": "print(var_dic_list())"
    },
    "r": {
     "delete_cmd_postfix": ") ",
     "delete_cmd_prefix": "rm(",
     "library": "var_list.r",
     "varRefreshCmd": "cat(var_dic_list()) "
    }
   },
   "types_to_exclude": [
    "module",
    "function",
    "builtin_function_or_method",
    "instance",
    "_Feature"
   ],
   "window_display": false
  }
 },
 "nbformat": 4,
 "nbformat_minor": 5
}
